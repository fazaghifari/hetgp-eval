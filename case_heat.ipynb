{
 "cells": [
  {
   "cell_type": "code",
   "execution_count": 1,
   "metadata": {},
   "outputs": [],
   "source": [
    "import matplotlib.pyplot as plt\n",
    "import matplotlib as mpl\n",
    "import numpy as np\n",
    "from matplotlib import cm\n",
    "import sympy as spy\n",
    "import sympy.abc as abc\n",
    "import joblib\n",
    "\n",
    "from sklearn.preprocessing import MinMaxScaler\n",
    "from sklearn.gaussian_process.kernels import RBF, Matern, ConstantKernel, WhiteKernel\n",
    "from sklearn.gaussian_process import GaussianProcessRegressor\n",
    "from sklearn.metrics import mean_squared_error\n",
    "import sklearn.preprocessing\n",
    "from tqdm import tqdm\n",
    "\n",
    "from src.mlhgp import MLHGP\n",
    "from src.imlhgp import IMLHGP\n",
    "from src.nnpehgp import NNPEHGP\n",
    "from src.kshgp import KSHGP\n",
    "from src.ksmlhgp import KSMLHGP\n",
    "from src.ksimlhgp import KSIMLHGP\n",
    "from src.rnmlhgp import RNHGP as RNHGP2\n",
    "from src.rnimlhgp import RNHGP as RNHGP3\n",
    "from src import evaluator\n",
    "\n",
    "## SUPPRESS ALL WARNINGS\n",
    "import warnings\n",
    "warnings.filterwarnings(\"ignore\")\n",
    "\n",
    "import scienceplots\n",
    "\n",
    "plt.style.use('science')"
   ]
  },
  {
   "cell_type": "code",
   "execution_count": 2,
   "metadata": {},
   "outputs": [],
   "source": [
    "params = {'xtick.labelsize':12,\n",
    "          'ytick.labelsize':12,\n",
    "          'axes.labelsize': 16,\n",
    "          'axes.titlesize': 18}\n",
    "plt.rcParams.update(params)"
   ]
  },
  {
   "cell_type": "markdown",
   "metadata": {},
   "source": [
    "# Problem Definition\n",
    "\n",
    "Temperature of solid sphere immersed in fluid under uncertainty. Described as:\n",
    "\n",
    "$$\n",
    "Y = u_2 + u_3 \\sum_{i=1}^\\infty \\frac{4(\\sin\\eta_i - \\eta_i \\cos \\eta_i)}{2\\eta_i - \\sin(2\\eta_i)} \\exp(-\\eta_i^2 \\pi_2) \\frac{\\sin(\\eta_i u_1)}{\\eta_i u_1},\n",
    "$$\n",
    "\n",
    "where $\\eta_i$ is a solution of:\n",
    "\n",
    "$$\n",
    "1 - \\eta_i \\cot \\eta_i = \\pi_1, \\quad \\eta_i \\in ((i-1)\\pi, i\\pi),\n",
    "$$\n",
    "\n",
    "where:\n",
    "\n",
    "$$\n",
    "\\pi_1 = \\frac{u_4 u_7}{u_6}, \\quad \\pi_2 = \\frac{u_6 u_5}{u_8 u_9 u_7^2}\n",
    "$$\n",
    "\n",
    ">NOTE: We can approximate the infinite sum with the **first four terms** only"
   ]
  },
  {
   "cell_type": "markdown",
   "metadata": {},
   "source": [
    "Input variable definition:\n",
    "\n",
    "| Variable | Description                          | Units          | Minimum | Maximum |\n",
    "|----------|--------------------------------------|----------------|---------|---------|\n",
    "| $u_1$      | Distance from the center of sphere   | -              | 0       | 1       |\n",
    "| $u_2$      | Temperature of fluid                 | $K$              | 250     | 270     |\n",
    "| $u_3$      | Initial sphere temperature           | $K$              | -100    | -30     |\n",
    "| $u_4$      | Convective heat transfer coefficient | $kgs^{-3}K^{-1}$ | 180     | 210     |"
   ]
  },
  {
   "cell_type": "markdown",
   "metadata": {},
   "source": [
    "Fixed / random variables definition\n",
    "\n",
    "| Variable | Description          | Units               | Value/Distribution         |\n",
    "|----------|----------------------|---------------------|----------------------------|\n",
    "| $u_5$    | Time                 | $s$                 | 800                        |\n",
    "| $u_6$    | Thermal conductivity | $kgs^{-3}K^{-1}$    | $\\mathcal{N}(65, 10.3^2)$    |\n",
    "| $u_7$    | Sphere's radius      | $m$                 | $\\mathcal{N}(0.1, 0.02^2)$   |\n",
    "| $u_8$    | Specific heat        | $m^2 s^{-2} K^{-1}$ | $\\mathcal{N}(400, 33.3^2)$   |\n",
    "| $u_9$    | Density              | $kgm^{-3}$          | $\\mathcal{N}(8000, 333.3^2)$ |"
   ]
  },
  {
   "cell_type": "code",
   "execution_count": 3,
   "metadata": {},
   "outputs": [],
   "source": [
    "def pi1(u4, u6, u7):\n",
    "    return (u4*u7)/u6\n",
    "\n",
    "def pi2(u5, u6, u7, u8, u9):\n",
    "    return (u5*u6) / (u8*u9*(u7**2))"
   ]
  },
  {
   "cell_type": "code",
   "execution_count": 4,
   "metadata": {},
   "outputs": [],
   "source": [
    "def eta_i_fun(pi_1, i):\n",
    "    lower_limit = (i-1)*np.pi\n",
    "    upper_limit = i*np.pi\n",
    "    solnrange = np.linspace(lower_limit, upper_limit, num=5)\n",
    "    solutions = []\n",
    "\n",
    "    for x0 in solnrange:\n",
    "        try:  # Sometimes 0 division error happen when the initial x0 is not right, using try except to bypass the error\n",
    "            solutions.append(spy.nsolve(1 - pi_1 - (abc.x * spy.cot(abc.x)) , x0))\n",
    "        except:\n",
    "            pass\n",
    "\n",
    "    solutions = np.unique(solutions)\n",
    "    cond1 = solutions >= lower_limit\n",
    "    cond2 = solutions <= upper_limit\n",
    "    solutions = solutions[np.where(cond1 & cond2)]\n",
    "    if len(solutions) != 1:\n",
    "        print(f\"eta_i solution is not unique, solution: {solutions}, proceed with taking the first solution\")\n",
    "    \n",
    "    return solutions[0]"
   ]
  },
  {
   "cell_type": "code",
   "execution_count": 5,
   "metadata": {},
   "outputs": [],
   "source": [
    "def solve_function(u):\n",
    "    assert len(u) == 9, \"Input length must be 9 (There are 9 input variables)\"\n",
    "\n",
    "    pi_1 = pi1(u[3], u[5], u[6])\n",
    "    pi_2 = pi2(u[4], u[5], u[6], u[7], u[8])\n",
    "\n",
    "    # Compute summation, approximating by first four terms:\n",
    "    temp_res = []\n",
    "    for i in range(1,5):  # i = [1,2,3,4]\n",
    "        # Compute eta_i\n",
    "        eta_i = float(eta_i_fun(pi_1, i))  # convert sympy solution to float, otherwise it's not compatible with numpy\n",
    "        first_term = (4 * (np.sin(eta_i) - (eta_i * np.cos(eta_i)))) / ((2*eta_i) - np.sin(2*eta_i))\n",
    "        second_term = np.exp(-1 * eta_i**2 * pi_2) * ((np.sin(eta_i*u[0])) / (eta_i*u[0]))\n",
    "        temp_res.append(first_term * second_term)\n",
    "    summation = np.sum(temp_res)\n",
    "\n",
    "    y = u[1] + u[2]*summation\n",
    "\n",
    "    return y\n",
    "        "
   ]
  },
  {
   "cell_type": "markdown",
   "metadata": {},
   "source": [
    "## Testing samples"
   ]
  },
  {
   "cell_type": "code",
   "execution_count": 6,
   "metadata": {},
   "outputs": [],
   "source": [
    "n_test = 1000  # Number of testing points\n",
    "n_realization = 10000  # Number of realization for each testing point, to obtain distribution\n",
    "\n",
    "x_test = joblib.load(\"data/sphere_heat_test.pkl\") #just load the x_test input data\n",
    "rand_input = joblib.load(\"data/sphere_randinput_test.pkl\") #just load the x_test input data\n",
    "y_test = joblib.load(\"output/sphere_result_all.pkl\") # load the response data"
   ]
  },
  {
   "cell_type": "markdown",
   "metadata": {},
   "source": [
    "### Train data"
   ]
  },
  {
   "cell_type": "code",
   "execution_count": 7,
   "metadata": {},
   "outputs": [],
   "source": [
    "def train_data_maker(seednum, samp_size=160):\n",
    "    np.random.seed(seednum)\n",
    "    n_train = samp_size\n",
    "    x_train = np.random.uniform(low=[0,250,-100,180], high=[1,270,-30,210], size=(n_train,4))\n",
    "    u5 = np.tile(800, (int(n_train),1))  # time variable\n",
    "    u6 = np.random.normal(loc = 65, scale=10.3, size=(n_train,1))  # thermal conductivity\n",
    "    u7 = np.random.normal(loc = 0.1, scale=0.02, size=(n_train,1))  # Sphere's radius\n",
    "    u8 = np.random.normal(loc = 400, scale=33.3, size=(n_train,1))  # Specific heat\n",
    "    u9 = np.random.normal(loc = 8000, scale=333.3, size=(n_train,1))  # Sphere's density\n",
    "    rand_input = np.hstack((u5,u6,u7,u8,u9))\n",
    "    eval_input = np.hstack((x_train, rand_input))\n",
    "\n",
    "    # Evaluate training data\n",
    "    y_train = []\n",
    "    for inp in eval_input:\n",
    "        y_train.append(solve_function(inp))\n",
    "    \n",
    "    y_train = np.array(y_train).reshape(-1,1)\n",
    "\n",
    "    return [x_train, y_train]"
   ]
  },
  {
   "cell_type": "markdown",
   "metadata": {},
   "source": [
    "### Try One Pass"
   ]
  },
  {
   "cell_type": "code",
   "execution_count": 8,
   "metadata": {},
   "outputs": [],
   "source": [
    "x_train, y_train = train_data_maker(42, 160)"
   ]
  },
  {
   "cell_type": "markdown",
   "metadata": {},
   "source": [
    "### Normalize input feature"
   ]
  },
  {
   "cell_type": "code",
   "execution_count": 9,
   "metadata": {},
   "outputs": [],
   "source": [
    "# Normalize X\n",
    "normalizer = sklearn.preprocessing.StandardScaler().fit(x_train)\n",
    "x_train_norm =  normalizer.transform(x_train)\n",
    "x_test_norm =  normalizer.transform(x_test)"
   ]
  },
  {
   "cell_type": "code",
   "execution_count": 10,
   "metadata": {},
   "outputs": [
    {
     "data": {
      "text/plain": [
       "array([[-3.69355381e-01,  1.55524214e+00,  8.22090673e-01,\n",
       "         2.88787132e-01],\n",
       "       [-1.07951082e+00, -1.18414549e+00, -1.44878975e+00,\n",
       "         1.20875426e+00],\n",
       "       [ 3.66972204e-01,  7.18859603e-01, -1.57515080e+00,\n",
       "         1.56548435e+00],\n",
       "       [ 1.11874533e+00, -9.89926502e-01, -1.03181763e+00,\n",
       "        -1.13923076e+00],\n",
       "       [-5.97810814e-01,  8.69714931e-02, -1.88986315e-01,\n",
       "        -7.68432378e-01],\n",
       "       [ 4.01868389e-01, -1.24102303e+00, -6.60072616e-01,\n",
       "        -5.10058345e-01],\n",
       "       [-1.04398006e-01,  9.84633853e-01, -9.71672352e-01,\n",
       "        -1.53892200e-03],\n",
       "       [ 3.38697332e-01, -1.56174245e+00,  4.02733691e-01,\n",
       "        -1.18352515e+00],\n",
       "       [-1.37513734e+00,  1.54893840e+00,  1.60938261e+00,\n",
       "         1.01005862e+00],\n",
       "       [-5.96603421e-01, -1.38518198e+00,  6.61150378e-01,\n",
       "        -2.56299500e-01],\n",
       "       [-1.18994102e+00, -1.49886906e-02, -1.52863527e+00,\n",
       "         1.35712315e+00],\n",
       "       [-7.45554974e-01,  5.61848399e-01, -5.94139486e-01,\n",
       "         1.85221998e-02],\n",
       "       [ 1.90166624e-01, -1.08466571e+00,  1.62270170e+00,\n",
       "         8.95665161e-01],\n",
       "       [ 1.46665902e+00,  1.36260061e+00,  3.70233293e-01,\n",
       "         1.40029455e+00],\n",
       "       [-1.29895861e+00, -1.04630625e+00, -1.49211180e+00,\n",
       "        -6.51161712e-01],\n",
       "       [-3.23412123e-01, -7.86520156e-01,  1.14808816e+00,\n",
       "        -5.43101096e-01],\n",
       "       [-6.73556749e-01,  1.48809213e-01, -1.16964115e+00,\n",
       "         9.88736157e-01],\n",
       "       [-1.34426713e+00,  1.67992867e+00,  9.57724173e-01,\n",
       "        -1.08657713e+00],\n",
       "       [-1.56859741e+00,  1.08902742e+00,  7.37387701e-01,\n",
       "         7.37043534e-01],\n",
       "       [ 9.19946389e-01, -1.46662551e+00, -4.36590001e-01,\n",
       "        -1.37147858e+00],\n",
       "       [ 1.21838735e+00,  4.26643294e-01, -5.29485088e-01,\n",
       "        -1.55137000e+00],\n",
       "       [-5.75906772e-01, -6.00954135e-01,  8.14044610e-01,\n",
       "         4.22556952e-01],\n",
       "       [ 1.29673829e+00, -9.41383212e-02, -1.24151693e+00,\n",
       "         6.82838245e-01],\n",
       "       [ 8.85871060e-01,  2.12858046e-01,  9.53419071e-01,\n",
       "        -7.18261051e-02],\n",
       "       [ 1.12244231e-01, -2.48128633e-01, -1.55885950e+00,\n",
       "        -1.39891288e+00],\n",
       "       [-1.48440410e+00,  4.71841149e-01, -5.85226931e-01,\n",
       "        -2.10159960e-02],\n",
       "       [ 1.36288425e+00, -8.62549636e-01, -2.61644262e-01,\n",
       "         8.28325658e-01],\n",
       "       [-8.42990475e-01, -1.45650771e+00, -6.68136984e-01,\n",
       "        -1.21551670e+00],\n",
       "       [ 1.43480659e+00,  1.06372293e+00,  4.89870625e-01,\n",
       "         1.22692695e+00],\n",
       "       [ 1.02524618e+00, -1.07875205e+00,  1.36314789e+00,\n",
       "         8.48043638e-02],\n",
       "       [ 1.03749175e+00,  1.36695742e+00, -5.72935945e-01,\n",
       "        -1.39148314e+00],\n",
       "       [-8.45795079e-01, -2.49621970e-01,  1.11195566e+00,\n",
       "         1.19002750e+00],\n",
       "       [-1.56395012e+00,  3.86822275e-02, -2.37961691e-01,\n",
       "        -1.00613389e+00],\n",
       "       [-1.19700245e+00, -5.58101729e-01,  1.53281502e+00,\n",
       "        -6.58477629e-01],\n",
       "       [ 9.94327667e-02,  7.01439851e-01, -4.19189259e-01,\n",
       "         1.57192277e+00],\n",
       "       [ 1.54123703e+00, -8.53966412e-01,  3.10673098e-02,\n",
       "        -7.35249825e-01],\n",
       "       [-6.60863002e-01, -1.59470758e+00,  4.09538754e-01,\n",
       "        -4.12768671e-02],\n",
       "       [-1.41924663e+00, -7.61366012e-01,  1.41607550e+00,\n",
       "        -9.46111007e-01],\n",
       "       [-1.11566106e+00, -3.47197524e-02,  1.67683883e+00,\n",
       "        -9.37536513e-01],\n",
       "       [ 5.97776151e-01,  9.03435468e-01, -8.43745593e-01,\n",
       "         7.34323983e-01],\n",
       "       [-3.91314369e-01,  4.57692719e-01,  4.90295054e-01,\n",
       "         7.25358806e-02],\n",
       "       [-1.29311781e+00,  1.15741929e+00, -5.63579650e-01,\n",
       "        -1.12852201e+00],\n",
       "       [-1.45403143e+00,  3.14943094e-01,  6.38678931e-01,\n",
       "        -1.71289704e+00],\n",
       "       [ 7.76668920e-02, -9.41128684e-01,  5.29528823e-01,\n",
       "        -1.17031184e+00],\n",
       "       [ 6.58879883e-01, -3.88785196e-01,  1.51199119e+00,\n",
       "        -1.29701986e+00],\n",
       "       [-4.78139097e-01, -1.33071476e+00,  1.47143214e+00,\n",
       "         1.24714344e+00],\n",
       "       [-7.48279473e-01,  5.53099128e-01,  1.10928494e+00,\n",
       "         1.39340437e-01],\n",
       "       [ 1.34725669e-01, -8.88194996e-01, -1.33078546e+00,\n",
       "         1.31549646e+00],\n",
       "       [ 1.33965318e+00,  4.60435232e-01, -5.02083418e-01,\n",
       "        -5.69043323e-01],\n",
       "       [ 7.72681882e-01,  1.37046976e+00,  1.34470691e+00,\n",
       "         9.11974921e-01],\n",
       "       [ 4.99943895e-01, -1.43182711e+00, -1.09987309e+00,\n",
       "         1.32009919e+00],\n",
       "       [ 3.84241902e-01, -1.69015425e+00, -1.30258514e+00,\n",
       "         5.11776860e-01],\n",
       "       [-1.57009406e+00, -1.16755332e+00,  2.04557635e-01,\n",
       "         6.09419090e-01],\n",
       "       [ 5.32213349e-01, -9.48803279e-01,  7.55320869e-01,\n",
       "        -9.54064511e-01],\n",
       "       [-5.29052896e-01,  8.51288746e-01,  5.44558082e-01,\n",
       "         1.15045546e+00],\n",
       "       [ 5.50580138e-01,  2.37095200e-01, -1.32885798e+00,\n",
       "        -5.05402209e-01],\n",
       "       [-7.24683376e-01, -8.80827573e-01,  1.63424607e+00,\n",
       "        -4.18116258e-01],\n",
       "       [ 1.31244731e+00,  4.53669381e-01,  1.03376678e+00,\n",
       "        -4.14210607e-02],\n",
       "       [ 2.88290402e-01, -2.41549708e-02, -9.86602831e-01,\n",
       "         7.14501347e-01],\n",
       "       [-6.74083698e-01, -1.63803957e+00,  5.30538068e-01,\n",
       "        -1.16087463e+00],\n",
       "       [ 1.46977768e+00,  1.56632168e+00,  1.43831052e+00,\n",
       "        -4.97001324e-01],\n",
       "       [-1.53631208e+00,  1.47804433e+00, -2.01659347e-01,\n",
       "         1.55429061e+00],\n",
       "       [ 1.54504804e+00,  1.21845493e+00, -6.52307990e-01,\n",
       "        -4.45627464e-01],\n",
       "       [ 1.17949756e+00, -6.29430775e-01, -1.07337360e+00,\n",
       "         1.44844232e-01],\n",
       "       [ 1.45579108e+00,  6.77348310e-01,  2.76424662e-01,\n",
       "        -1.43576049e+00],\n",
       "       [ 4.12119400e-01,  1.69084498e+00, -1.17247241e+00,\n",
       "         1.25441191e-02],\n",
       "       [ 1.26476113e+00,  8.31562380e-01,  7.04224382e-01,\n",
       "         6.45833237e-01],\n",
       "       [-4.18261815e-01, -7.09849502e-01,  1.08279552e+00,\n",
       "         1.01595993e+00],\n",
       "       [ 1.23128554e+00,  1.42607065e+00,  7.85596011e-02,\n",
       "        -4.52753770e-02],\n",
       "       [ 1.00777223e+00,  5.18559935e-01,  7.20908261e-01,\n",
       "         9.66712355e-01],\n",
       "       [ 1.30581373e+00, -5.56791925e-01, -3.78909970e-01,\n",
       "        -1.44674625e+00],\n",
       "       [ 2.92762987e-01, -1.59796385e+00, -7.55855638e-02,\n",
       "         9.61609703e-02],\n",
       "       [-6.55335846e-01,  3.14737369e-01, -1.54173761e+00,\n",
       "        -1.64150419e+00],\n",
       "       [ 1.08676034e+00, -4.80284410e-01, -1.21635780e+00,\n",
       "         2.60026340e-02],\n",
       "       [ 9.15797040e-01, -9.77924385e-01,  4.54443949e-01,\n",
       "        -1.47643937e+00],\n",
       "       [-1.41858701e+00,  1.09715393e-01,  1.77267497e-01,\n",
       "         4.22118252e-01],\n",
       "       [ 7.73122736e-01,  1.64189168e+00,  9.52664385e-02,\n",
       "        -6.59325177e-01],\n",
       "       [ 9.97668587e-01, -7.88301491e-01, -1.65309398e-01,\n",
       "        -1.50013713e+00],\n",
       "       [-1.50415795e+00,  1.59637884e+00,  1.17249364e+00,\n",
       "         6.23446402e-01],\n",
       "       [-2.57519898e-01, -1.12451333e+00, -1.11736750e+00,\n",
       "        -9.09380064e-01],\n",
       "       [ 1.98344423e-01,  7.41345478e-01,  5.80157278e-01,\n",
       "        -8.07275617e-01],\n",
       "       [ 1.51659685e+00,  8.21663668e-01,  2.23496276e-01,\n",
       "         3.33706976e-01],\n",
       "       [-2.22918682e-01, -8.67931207e-01, -4.44990849e-01,\n",
       "         8.36217843e-01],\n",
       "       [-1.53976705e+00, -1.32175564e+00, -1.48949908e+00,\n",
       "        -1.62987859e+00],\n",
       "       [ 1.19354949e+00,  7.03642132e-01, -4.66875926e-02,\n",
       "        -1.43349884e+00],\n",
       "       [ 1.11197356e-02, -8.98059925e-02, -1.06087494e+00,\n",
       "        -2.77967489e-01],\n",
       "       [-2.91474698e-01,  4.00970046e-01,  4.95565074e-01,\n",
       "        -1.61414490e+00],\n",
       "       [-3.69119783e-01,  4.35473743e-01,  5.09073118e-02,\n",
       "         1.17544401e+00],\n",
       "       [ 5.54092346e-01, -1.16022373e+00, -1.40671850e+00,\n",
       "         4.39276232e-01],\n",
       "       [-1.50038631e+00,  2.97303621e-01,  1.52378601e+00,\n",
       "         2.09058565e-01],\n",
       "       [-3.25060963e-01,  4.95548851e-01, -1.00336493e-01,\n",
       "         1.06381920e-01],\n",
       "       [ 1.47304773e+00, -3.90966133e-01,  1.59441616e+00,\n",
       "         1.34347153e+00],\n",
       "       [-9.50257379e-01, -1.48276895e+00, -1.30492217e+00,\n",
       "        -1.70727789e+00],\n",
       "       [-1.27962069e+00,  6.32458137e-01, -1.40462962e+00,\n",
       "        -6.73014907e-01],\n",
       "       [ 1.15914926e+00, -1.64163832e+00,  1.10000572e+00,\n",
       "        -8.00669906e-01],\n",
       "       [-1.20252889e+00,  6.79786600e-01,  4.74838666e-01,\n",
       "         1.24759965e+00],\n",
       "       [ 8.02305176e-01,  1.04773082e+00, -6.94140611e-01,\n",
       "        -1.15974369e+00],\n",
       "       [ 8.52819427e-01,  1.05929135e+00,  1.69319770e+00,\n",
       "        -3.50989047e-01],\n",
       "       [-3.77551535e-01,  9.54427916e-01, -4.96106403e-01,\n",
       "         1.43084264e+00],\n",
       "       [ 1.20314351e+00, -2.43120132e-01,  8.85701059e-01,\n",
       "         8.24858335e-01],\n",
       "       [-1.25140930e+00,  1.38923049e+00,  5.80379958e-02,\n",
       "         1.07216560e+00],\n",
       "       [-5.46439748e-01,  1.36499929e+00, -3.33018852e-01,\n",
       "        -1.73267134e+00],\n",
       "       [ 1.35578503e+00, -1.40719249e+00, -5.68521080e-01,\n",
       "         1.49722941e+00],\n",
       "       [ 1.50275868e+00,  2.54775771e-01,  4.84591830e-01,\n",
       "        -2.27780585e-01],\n",
       "       [-6.33661109e-01, -5.88954408e-01,  6.21675706e-01,\n",
       "         8.17401609e-01],\n",
       "       [ 9.85945996e-01,  9.99945988e-01, -1.33717666e+00,\n",
       "        -6.96777940e-02],\n",
       "       [-1.39948769e+00,  1.72361773e-01, -1.56686046e-01,\n",
       "         1.28278708e+00],\n",
       "       [-4.46132721e-01, -1.31832804e+00, -1.16267443e+00,\n",
       "         8.48819774e-01],\n",
       "       [ 4.22554040e-01, -1.37328795e+00, -1.36109921e+00,\n",
       "         6.40623463e-01],\n",
       "       [-1.35007663e+00,  1.11108341e+00,  7.35314938e-01,\n",
       "        -1.49019045e+00],\n",
       "       [-1.31083601e+00,  1.67907603e+00, -3.83331554e-01,\n",
       "        -4.95338798e-01],\n",
       "       [ 1.05490887e+00,  1.54329582e+00,  1.67802028e+00,\n",
       "         8.20853084e-01],\n",
       "       [-3.63767425e-01, -1.43403059e+00,  9.74242971e-01,\n",
       "         1.50356748e-01],\n",
       "       [-2.07898188e-01,  1.40233413e+00, -1.26981157e+00,\n",
       "        -7.58513131e-02],\n",
       "       [-1.54964600e+00, -1.06389884e-01, -1.45478897e+00,\n",
       "        -1.36133775e+00],\n",
       "       [-1.20460417e+00,  5.15962188e-01,  8.69438217e-01,\n",
       "         2.36207280e-01],\n",
       "       [ 1.54034415e+00, -4.29682875e-01, -6.81748467e-01,\n",
       "         1.21708666e+00],\n",
       "       [-8.59897100e-01,  1.59835784e+00, -1.60355749e+00,\n",
       "         1.56537766e+00],\n",
       "       [-1.44628136e+00,  1.34990110e+00,  1.33683663e-01,\n",
       "         1.64476806e+00],\n",
       "       [-1.34671775e+00,  1.87271372e-01,  1.62175113e+00,\n",
       "         2.89414654e-02],\n",
       "       [ 4.58888894e-01,  6.76379336e-01, -1.12844258e-01,\n",
       "         3.88170022e-01],\n",
       "       [ 3.12372956e-01,  1.38442230e+00, -1.49137352e+00,\n",
       "        -8.03735980e-01],\n",
       "       [ 1.50212281e+00,  1.34687006e+00, -1.09084716e-01,\n",
       "         3.62634513e-01],\n",
       "       [-6.85104420e-01, -1.07340543e+00, -8.19867038e-02,\n",
       "        -5.54797142e-01],\n",
       "       [ 3.10233924e-01, -1.45390618e+00,  1.63891059e+00,\n",
       "         1.62154153e+00],\n",
       "       [ 6.82356504e-01,  1.26060084e-01, -6.01497106e-01,\n",
       "         1.02862068e+00],\n",
       "       [ 6.38709663e-01, -1.16131811e+00,  1.42504329e+00,\n",
       "         1.05868433e+00],\n",
       "       [ 1.50013532e+00,  7.79688318e-01,  4.22515031e-01,\n",
       "        -3.31643985e-01],\n",
       "       [ 1.44465625e+00,  1.26345337e+00, -1.49214084e+00,\n",
       "        -1.67926752e+00],\n",
       "       [-3.63105172e-01,  1.07210928e+00,  1.68231687e+00,\n",
       "        -1.25267196e+00],\n",
       "       [ 3.44274499e-01, -4.08931067e-01,  1.62381292e+00,\n",
       "         1.12602382e+00],\n",
       "       [ 1.13787397e+00, -1.06277796e-01, -2.46694289e-01,\n",
       "        -8.29720731e-01],\n",
       "       [-1.40333309e+00,  1.25882920e+00,  1.09472379e+00,\n",
       "         1.66799054e+00],\n",
       "       [ 1.65234688e+00,  1.92708720e-01,  9.46747844e-01,\n",
       "         1.47901617e+00],\n",
       "       [ 1.17465766e+00, -8.69251015e-01, -1.26312740e-01,\n",
       "        -1.32577435e+00],\n",
       "       [ 1.51395067e+00,  3.67618863e-01, -8.74055228e-01,\n",
       "         5.39972130e-01],\n",
       "       [ 4.22262132e-01, -4.87274633e-01, -1.26185869e+00,\n",
       "         5.39533708e-01],\n",
       "       [ 1.04363001e-01,  9.40313996e-01,  1.08284132e-01,\n",
       "         1.16062804e+00],\n",
       "       [ 2.07054506e-01,  2.11688739e-01,  1.30955136e+00,\n",
       "        -3.82402770e-01],\n",
       "       [-1.15101795e+00, -1.62264288e+00,  9.00076863e-01,\n",
       "         3.63243039e-01],\n",
       "       [ 7.01589113e-01, -9.87771961e-01, -1.18498258e+00,\n",
       "        -1.71992328e+00],\n",
       "       [-4.47196887e-01,  3.11581399e-01, -3.22766968e-01,\n",
       "        -2.65507407e-01],\n",
       "       [ 1.35180958e+00, -5.21424784e-01,  8.74795201e-02,\n",
       "         9.24965261e-01],\n",
       "       [-2.97850689e-01,  4.22467524e-01,  1.26139860e+00,\n",
       "         1.49536779e+00],\n",
       "       [-1.10858098e+00,  1.47207782e+00,  1.37732558e-02,\n",
       "        -8.81863721e-01],\n",
       "       [-9.44347996e-02,  1.65630179e+00,  1.54641779e-02,\n",
       "        -6.39396265e-01],\n",
       "       [ 4.71895376e-01, -8.94077870e-01, -1.38887732e+00,\n",
       "        -1.32673618e+00],\n",
       "       [-1.17041739e+00, -1.19824996e+00, -1.17670760e+00,\n",
       "         4.33964732e-01],\n",
       "       [-9.95465786e-01, -5.30346216e-01,  1.37739976e+00,\n",
       "        -1.40033144e-01],\n",
       "       [ 5.82899096e-01, -1.12787224e+00, -9.96556841e-01,\n",
       "        -1.62939779e+00],\n",
       "       [-1.03753477e+00, -7.61559474e-01, -1.04804103e+00,\n",
       "        -1.46490161e+00],\n",
       "       [-1.19449845e+00, -1.33558590e-01, -9.49230317e-01,\n",
       "        -5.17252468e-01],\n",
       "       [ 4.94721458e-02,  6.57924656e-01, -1.51204412e+00,\n",
       "         9.79153374e-01],\n",
       "       [ 4.54019856e-01, -1.44003415e+00,  1.29918958e+00,\n",
       "         1.39684934e+00],\n",
       "       [-1.38805093e+00, -7.67463095e-01,  1.07214767e+00,\n",
       "         8.03251080e-01],\n",
       "       [-9.86883224e-01, -1.00023226e+00, -3.96132037e-01,\n",
       "        -1.03713710e-01],\n",
       "       [ 4.22673335e-01, -4.50216361e-01, -8.59079943e-02,\n",
       "         8.00538638e-01],\n",
       "       [-1.46732949e+00, -8.51709848e-01,  7.59264655e-01,\n",
       "         1.30858798e+00],\n",
       "       [ 7.63162143e-02,  1.12331151e-01, -1.28337623e+00,\n",
       "        -2.31333505e-01],\n",
       "       [ 1.44366871e-01, -8.86064026e-01, -7.37243686e-01,\n",
       "        -4.72497553e-01]])"
      ]
     },
     "execution_count": 10,
     "metadata": {},
     "output_type": "execute_result"
    }
   ],
   "source": [
    "x_train_norm"
   ]
  },
  {
   "cell_type": "markdown",
   "metadata": {},
   "source": [
    "## Define Models\n"
   ]
  },
  {
   "cell_type": "code",
   "execution_count": 11,
   "metadata": {},
   "outputs": [],
   "source": [
    "# define the model\n",
    "def hgp_constructor(X_train_norm, y_train, kernel, kernel_noise):\n",
    "    hgps = [MLHGP,IMLHGP,NNPEHGP,KSMLHGP,KSIMLHGP]\n",
    "    trained_hgps = []\n",
    "\n",
    "    for hgp in hgps:\n",
    "        # Initialize models\n",
    "        gp = GaussianProcessRegressor(kernel=kernel, n_restarts_optimizer=25)\n",
    "        gp_noise = GaussianProcessRegressor(kernel=kernel_noise, n_restarts_optimizer=25)\n",
    "        model_hgp = hgp(model=gp, model_noise=gp_noise)\n",
    "\n",
    "        # fit the model\n",
    "        model_hgp.fit(X_train_norm, y_train.flatten())\n",
    "        trained_hgps.append(model_hgp)\n",
    "\n",
    "    return trained_hgps"
   ]
  },
  {
   "cell_type": "code",
   "execution_count": 12,
   "metadata": {},
   "outputs": [],
   "source": [
    "init_lengthscale = tuple([1]*4)\n",
    "lenscale_bounds = tuple([(1e-2,1e2)]*4)\n",
    "\n",
    "kernel = ConstantKernel(1.0) * RBF(length_scale=init_lengthscale, length_scale_bounds=lenscale_bounds) + WhiteKernel(\n",
    "        noise_level=1, noise_level_bounds=(1e-4, 5e-1)\n",
    "    )\n",
    "kernel_noise = ConstantKernel(1.0) * RBF(length_scale=init_lengthscale, length_scale_bounds=lenscale_bounds) + WhiteKernel(\n",
    "    noise_level=1, noise_level_bounds=(1e-4, 8e-2)\n",
    "    )\n",
    "hgp = hgp_constructor(x_train_norm, y_train, kernel, kernel_noise)"
   ]
  },
  {
   "cell_type": "code",
   "execution_count": 13,
   "metadata": {},
   "outputs": [
    {
     "name": "stderr",
     "output_type": "stream",
     "text": [
      "0it [00:00, ?it/s]"
     ]
    },
    {
     "name": "stderr",
     "output_type": "stream",
     "text": [
      "5it [00:00, 13.41it/s]\n"
     ]
    }
   ],
   "source": [
    "# make a prediction \n",
    "model_name = [\"MLHGP\", \"IMLHGP\", \"NNPEHGP\", \"KSMLHGP\", \"KSIMLHGP\"]\n",
    "res_dict = {}\n",
    "for idx,hgp_model in tqdm(enumerate(hgp)):\n",
    "    subres_dict = {}\n",
    "    Y_pred, Std_pred = hgp_model.predict(x_test_norm, return_std=\"multi\")\n",
    "    subres_dict[\"y_pred\"] = Y_pred\n",
    "    subres_dict[\"std_pred\"] = Std_pred\n",
    "    res_dict[model_name[idx]] = subres_dict"
   ]
  },
  {
   "cell_type": "markdown",
   "metadata": {},
   "source": [
    "### Quantitative Evaluation"
   ]
  },
  {
   "cell_type": "code",
   "execution_count": 14,
   "metadata": {},
   "outputs": [],
   "source": [
    "def score_eval(X_test, y_test_mean, y_test_std, y_pred, std_al, std_ep):\n",
    "\n",
    "    # Compute average Wasserstein distance (Earth moving distance)\n",
    "    d_wass_list = []\n",
    "    for i,x in enumerate(X_test):\n",
    "        # actual distribution\n",
    "        act_dist = [y_test_mean[i,:], y_test_std[i,:]]\n",
    "        pred_dist = [y_pred[i], std_al[i]]\n",
    "\n",
    "        d_wass, dists, m2 = evaluator.wasserstein2(act_dist, pred_dist)\n",
    "        d_wass_list.append(d_wass)\n",
    "    \n",
    "    avg_wass = np.mean(d_wass_list)\n",
    "\n",
    "    # Compute SMSE of noise\n",
    "    smse = evaluator.noise_smse(std_al, y_test_std)\n",
    "\n",
    "    # Compute NLPD\n",
    "    std_tot = np.sqrt(std_al**2 + std_ep**2)\n",
    "    nlpd = evaluator.nlpd_loss(y_test_mean, y_pred, std_tot**2)\n",
    "\n",
    "    return avg_wass, smse, nlpd"
   ]
  },
  {
   "cell_type": "code",
   "execution_count": 15,
   "metadata": {},
   "outputs": [
    {
     "name": "stdout",
     "output_type": "stream",
     "text": [
      "MLHGP\n",
      "Average Wasserstein: 112.22740580841675, Noise SMSE: 6.113221145674394, NLPD: 1.75883961583406\n",
      "IMLHGP\n",
      "Average Wasserstein: 195.4372876957261, Noise SMSE: 10.378799264183767, NLPD: 2.6400607531463005\n",
      "NNPEHGP\n",
      "Average Wasserstein: 164.06072604322748, Noise SMSE: 10.15845225615299, NLPD: 2.1661001764367986\n",
      "KSMLHGP\n",
      "Average Wasserstein: 97.08468973054369, Noise SMSE: 5.488888395031382, NLPD: 1.6394661737566598\n",
      "KSIMLHGP\n",
      "Average Wasserstein: 230.51906121537303, Noise SMSE: 10.230757353598037, NLPD: 2.7981060870268277\n"
     ]
    }
   ],
   "source": [
    "for name in model_name:\n",
    "    res = res_dict[name]\n",
    "    y_pred = res[\"y_pred\"]\n",
    "    std_al, std_ep = res[\"std_pred\"]\n",
    "    avg_wass, smse, nlpd = score_eval(x_test_norm, y_test[:,0].reshape(-1,1), y_test[:,1].reshape(-1,1), y_pred, std_al, std_ep)\n",
    "    print(name)\n",
    "    print(f\"Average Wasserstein: {avg_wass}, Noise SMSE: {smse}, NLPD: {nlpd}\")"
   ]
  },
  {
   "cell_type": "code",
   "execution_count": 16,
   "metadata": {},
   "outputs": [
    {
     "name": "stdout",
     "output_type": "stream",
     "text": [
      "MLHGP\n",
      "Kernel mean: 146**2 * RBF(length_scale=[4.49, 0.252, 3.56, 27.7]) + WhiteKernel(noise_level=0.5)\n",
      "Kernel noise: 0.772**2 * RBF(length_scale=[10.3, 39, 100, 14.3]) + WhiteKernel(noise_level=0.08)\n",
      "IMLHGP\n",
      "Kernel mean: 148**2 * RBF(length_scale=[4.39, 0.246, 4.32, 4.77])\n",
      "Kernel noise: 0.101**2 * RBF(length_scale=[0.355, 0.808, 100, 0.305]) + WhiteKernel(noise_level=0.000491)\n",
      "NNPEHGP\n",
      "Kernel mean: 132**2 * RBF(length_scale=[2.75, 0.9, 11.5, 0.569])\n",
      "Kernel noise: 0.0236**2 * RBF(length_scale=[2.27, 2.47, 3.94, 2.73]) + WhiteKernel(noise_level=0.0001)\n",
      "KSMLHGP\n",
      "Kernel mean: 146**2 * RBF(length_scale=[4.94, 0.257, 3.8, 28.1]) + WhiteKernel(noise_level=0.5)\n",
      "KSIMLHGP\n",
      "Kernel mean: 148**2 * RBF(length_scale=[4.39, 0.246, 4.32, 4.77])\n"
     ]
    }
   ],
   "source": [
    "for name,gp in zip(model_name,hgp):\n",
    "    print(name)\n",
    "    print(f\"Kernel mean: {gp.model.kernel_}\")\n",
    "    try:\n",
    "        print(f\"Kernel noise: {gp.model_noise.kernel_}\")\n",
    "    except:\n",
    "        pass"
   ]
  },
  {
   "cell_type": "markdown",
   "metadata": {},
   "source": [
    "## Varying Random Seeds"
   ]
  },
  {
   "cell_type": "code",
   "execution_count": 17,
   "metadata": {},
   "outputs": [],
   "source": [
    "def main(datasize, repeat=100):\n",
    "\n",
    "    model_name = [\"MLHGP\", \"IMLHGP\", \"NNPEHGP\", \"KSMLHGP\", \"KSIMLHGP\"]\n",
    "    metrics_name = [\"wasserstein\", \"smse\", \"nlpd\", \"model\"]\n",
    "\n",
    "    ## Initialize metrics dictionary\n",
    "    model_scores = dict()\n",
    "    for met in metrics_name:\n",
    "        model_scores[met] = dict()\n",
    "        for name in model_name:\n",
    "            model_scores[met][name] = []\n",
    "    \n",
    "    model_scores[\"train_data\"] = []\n",
    "\n",
    "    for i in tqdm(range(repeat)):\n",
    "        X_train, y_train = train_data_maker(seednum=i, samp_size=datasize)\n",
    "        train = {\"x\": X_train, \"y\": y_train}\n",
    "        model_scores[\"train_data\"].append(train)\n",
    "\n",
    "        # Compute loc and scale as functions of input X\n",
    "        x_test = joblib.load(\"data/sphere_heat_test.pkl\") #just load the x_test input data\n",
    "        y_test = joblib.load(\"output/sphere_result_all.pkl\") # load the response data\n",
    "        y_test_mean = y_test[:,0].reshape(-1,1)\n",
    "        y_test_std = y_test[:,1].reshape(-1,1)\n",
    "\n",
    "        # Sample outputs Y from Gaussian Likelihood\n",
    "        np.random.seed(42)\n",
    "        y_test = np.random.normal(y_test_mean, y_test_std)\n",
    "        \n",
    "        # Normalize X\n",
    "        normalizer = sklearn.preprocessing.StandardScaler().fit(x_train)\n",
    "        x_train_norm =  normalizer.transform(X_train)\n",
    "        x_test_norm =  normalizer.transform(x_test)\n",
    "\n",
    "        # Train models\n",
    "        init_lengthscale = tuple([1]*4)\n",
    "        lenscale_bounds = tuple([(1e-2,1e2)]*4)\n",
    "\n",
    "        kernel = ConstantKernel(1.0) * RBF(length_scale=init_lengthscale, length_scale_bounds=lenscale_bounds) + WhiteKernel(\n",
    "                noise_level=1, noise_level_bounds=(1e-4, 5e-1)\n",
    "            )\n",
    "        kernel_noise = ConstantKernel(1.0) * RBF(length_scale=init_lengthscale, length_scale_bounds=lenscale_bounds) + WhiteKernel(\n",
    "            noise_level=1, noise_level_bounds=(1e-4, 8e-2)\n",
    "            )\n",
    "        hgp = hgp_constructor(x_train_norm, y_train, kernel, kernel_noise)\n",
    "\n",
    "        # make a prediction\n",
    "        res_dict = {}\n",
    "        for idx,hgp_model in enumerate(hgp):\n",
    "            subres_dict = {}\n",
    "            Y_pred, Std_pred = hgp_model.predict(x_test_norm, return_std=\"multi\")\n",
    "            subres_dict[\"y_pred\"] = Y_pred\n",
    "            subres_dict[\"std_pred\"] = Std_pred\n",
    "            res_dict[model_name[idx]] = subres_dict\n",
    "            model_scores[\"model\"][model_name[idx]].append(hgp_model)\n",
    "        \n",
    "        # Evaluate\n",
    "        for name in model_name:\n",
    "            res = res_dict[name]\n",
    "            y_pred = res[\"y_pred\"]\n",
    "            std_al, std_ep = res[\"std_pred\"]\n",
    "            avg_wass, smse, nlpd = score_eval(x_test_norm, y_test_mean, y_test_std, y_pred, std_al, std_ep)\n",
    "            model_scores[\"wasserstein\"][name].append(avg_wass)\n",
    "            model_scores[\"smse\"][name].append(smse)\n",
    "            model_scores[\"nlpd\"][name].append(nlpd)\n",
    "        \n",
    "    return model_scores"
   ]
  },
  {
   "cell_type": "code",
   "execution_count": 18,
   "metadata": {},
   "outputs": [
    {
     "name": "stderr",
     "output_type": "stream",
     "text": [
      "100%|██████████| 25/25 [41:59<00:00, 100.79s/it]\n"
     ]
    }
   ],
   "source": [
    "model_scores = main(datasize=160, repeat=25)"
   ]
  },
  {
   "cell_type": "code",
   "execution_count": 22,
   "metadata": {},
   "outputs": [],
   "source": [
    "params = {'xtick.labelsize':14,\n",
    "          'ytick.labelsize':14,\n",
    "          'axes.labelsize': 20,\n",
    "          'axes.titlesize': 22}\n",
    "plt.rcParams.update(params)"
   ]
  },
  {
   "cell_type": "code",
   "execution_count": 23,
   "metadata": {},
   "outputs": [
    {
     "data": {
      "image/png": "[encoded data removed]",
      "text/plain": [
       "<Figure size 700x700 with 1 Axes>"
      ]
     },
     "metadata": {},
     "output_type": "display_data"
    }
   ],
   "source": [
    "fig, ax = plt.subplots(figsize=(7,7))\n",
    "ax.boxplot(model_scores[\"wasserstein\"].values())\n",
    "ax.set_xticklabels(model_scores[\"wasserstein\"].keys())\n",
    "ax.set_ylabel(\"Average Wasserstein\")\n",
    "plt.grid(True, color=\"0.8\", linestyle='--')\n",
    "plt.savefig(\"img/heat_4d/average_wasserstein.pdf\", dpi=300, format=\"pdf\")\n",
    "plt.show()"
   ]
  },
  {
   "cell_type": "code",
   "execution_count": 24,
   "metadata": {},
   "outputs": [
    {
     "data": {
      "image/png": "[encoded data removed]",
      "text/plain": [
       "<Figure size 700x700 with 1 Axes>"
      ]
     },
     "metadata": {},
     "output_type": "display_data"
    }
   ],
   "source": [
    "fig, ax = plt.subplots(figsize=(7,7))\n",
    "ax.boxplot(model_scores[\"smse\"].values())\n",
    "ax.set_xticklabels(model_scores[\"wasserstein\"].keys())\n",
    "ax.set_ylabel(\"SMSE\")\n",
    "plt.grid(True, color=\"0.8\", linestyle='--')\n",
    "plt.savefig(\"img/heat_4d/smse.pdf\", dpi=300, format=\"pdf\")\n",
    "plt.show()"
   ]
  },
  {
   "cell_type": "code",
   "execution_count": 25,
   "metadata": {},
   "outputs": [
    {
     "data": {
      "image/png": "[encoded data removed]",
      "text/plain": [
       "<Figure size 700x700 with 1 Axes>"
      ]
     },
     "metadata": {},
     "output_type": "display_data"
    }
   ],
   "source": [
    "fig, ax = plt.subplots(figsize=(7,7))\n",
    "ax.boxplot(model_scores[\"nlpd\"].values())\n",
    "ax.set_xticklabels(model_scores[\"wasserstein\"].keys())\n",
    "# ax.set_ylim(0,8)\n",
    "ax.set_ylabel(\"NLPD\")\n",
    "plt.grid(True, color=\"0.8\", linestyle='--')\n",
    "plt.savefig(\"img/heat_4d/nlpd.pdf\", dpi=300, format=\"pdf\")\n",
    "plt.show()"
   ]
  },
  {
   "cell_type": "code",
   "execution_count": null,
   "metadata": {},
   "outputs": [],
   "source": []
  },
  {
   "cell_type": "code",
   "execution_count": null,
   "metadata": {},
   "outputs": [],
   "source": []
  },
  {
   "cell_type": "code",
   "execution_count": null,
   "metadata": {},
   "outputs": [],
   "source": []
  }
 ],
 "metadata": {
  "kernelspec": {
   "display_name": "raenv",
   "language": "python",
   "name": "python3"
  },
  "language_info": {
   "codemirror_mode": {
    "name": "ipython",
    "version": 3
   },
   "file_extension": ".py",
   "mimetype": "text/x-python",
   "name": "python",
   "nbconvert_exporter": "python",
   "pygments_lexer": "ipython3",
   "version": "3.10.13"
  }
 },
 "nbformat": 4,
 "nbformat_minor": 2
}
